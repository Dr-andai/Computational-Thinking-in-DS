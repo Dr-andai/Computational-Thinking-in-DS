{
 "cells": [
  {
   "cell_type": "markdown",
   "metadata": {},
   "source": [
    "# Graph\n",
    "Set of edges, each consisting of a pair of nodes\n",
    "\n",
    "- Builduing graphs: nodes and edges: stitching them together to make graphs"
   ]
  },
  {
   "cell_type": "code",
   "execution_count": null,
   "metadata": {},
   "outputs": [],
   "source": [
    "class node(object):\n",
    "    def __init__(self, name):\n",
    "        self.name = name\n",
    "\n",
    "    def getName(self):\n",
    "        return self.name\n",
    "    \n",
    "    def __str__(self):\n",
    "        return self.name"
   ]
  },
  {
   "cell_type": "code",
   "execution_count": null,
   "metadata": {},
   "outputs": [],
   "source": [
    "# assuming src and dest are nodes\n",
    "class edge(object):\n",
    "    def __init__(self, src, dest):\n",
    "        self.src = src\n",
    "        self.dest = dest\n",
    "\n",
    "    def getSource(self):\n",
    "        return self.src\n",
    "    \n",
    "    def getDestination(self):\n",
    "        return self.dest\n",
    "    \n",
    "    def __str__(self):\n",
    "        return self.src.getName() + '>' + self.dest.getName()"
   ]
  },
  {
   "cell_type": "markdown",
   "metadata": {},
   "source": [
    "common representations of digraphs\n",
    "- digraphs are directed graphs"
   ]
  },
  {
   "cell_type": "code",
   "execution_count": null,
   "metadata": {},
   "outputs": [],
   "source": [
    "class digraph(object):\n",
    "    def __init__(self):\n",
    "        self.edges = {}\n",
    "        \"\"\"\n",
    "        edges is a dict mapping each node to a list of its children\n",
    "        \"\"\"\n",
    "    \n",
    "    def addNode(self, node):\n",
    "        if node in self.edges:\n",
    "            \"\"\"\n",
    "            nodes are represented as keys in dictionary\n",
    "            \"\"\"\n",
    "            raise ValueError('Deplicate node')\n",
    "        else:\n",
    "            self.edges[node] = []\n",
    "\n",
    "    def addEdge(self, edge):\n",
    "        \"\"\"\n",
    "        Edges are represented by destinations as values in list associated with a source key\n",
    "        \"\"\"\n",
    "        src = edge.getSource()\n",
    "        dest = edge.getDestination()\n",
    "        if not (src in self.edges and dest in self.edges):\n",
    "            raise ValueError('Node not in graph')\n",
    "        self.edges[src].append(dest)\n",
    "    \n",
    "    def childrenOf(self, node):\n",
    "        return self.edges[node]\n",
    "    \n",
    "    def hasNode(self, node):\n",
    "        return node in self.edges\n",
    "    \n",
    "    def getNode(self, name):\n",
    "        for n in self.edges:\n",
    "            if n.getName() == name:\n",
    "                return n\n",
    "        raise NameError(name)\n",
    "    \n",
    "    def __str__(self):\n",
    "        result = ''\n",
    "        for src in self.edges:\n",
    "            for dest in self.edges[src]:\n",
    "                result = result + src.getName() + '->' + dest.getNmae()\n",
    "        \n",
    "        return result[:-1]\n"
   ]
  }
 ],
 "metadata": {
  "kernelspec": {
   "display_name": "3.9.6",
   "language": "python",
   "name": "python3"
  },
  "language_info": {
   "codemirror_mode": {
    "name": "ipython",
    "version": 3
   },
   "file_extension": ".py",
   "mimetype": "text/x-python",
   "name": "python",
   "nbconvert_exporter": "python",
   "pygments_lexer": "ipython3",
   "version": "3.9.6"
  }
 },
 "nbformat": 4,
 "nbformat_minor": 2
}
