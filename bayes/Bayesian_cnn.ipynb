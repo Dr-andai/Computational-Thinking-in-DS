{
 "cells": [
  {
   "cell_type": "markdown",
   "id": "47511252",
   "metadata": {},
   "source": [
    "# Bayesian Conditional Probabilistic Neural Network\n",
    "A neural networlk based approach that propagates confidence values to estimate the probability of an association\n",
    "\n",
    "Key features:  \n",
    "- Probabilistic outputs: gives a distribution over outputs instead of a point estimate\n",
    "- Bayesian inference: Applies prior to weights and updates them with data\n",
    "- Uncertainty modelling: Especially useful in high risk or sparse data sources"
   ]
  },
  {
   "cell_type": "code",
   "execution_count": null,
   "id": "6ee362ea",
   "metadata": {},
   "outputs": [],
   "source": []
  }
 ],
 "metadata": {
  "kernelspec": {
   "display_name": "venv",
   "language": "python",
   "name": "python3"
  },
  "language_info": {
   "name": "python",
   "version": "3.13.3"
  }
 },
 "nbformat": 4,
 "nbformat_minor": 5
}
