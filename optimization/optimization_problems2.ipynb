{
 "cells": [
  {
   "cell_type": "markdown",
   "metadata": {},
   "source": [
    "# Search Tree implementation\n",
    "The tree is built top down starting with the root.  \n",
    "- The first element is selected from the still to be considered items  \n",
    "◦ If there is room for that item in the knapsack, a node is constructed that reflects the consequence of choosing to take that item. By conven on, we draw that as the left child   \n",
    "◦ We also explore the consequences of not taking that item. This is the right child\n",
    "- The process is then applied  \n",
    "recursively to non-leaf children \n",
    "- Finally, chose a node with the highest value that meets\n",
    "constraints"
   ]
  },
  {
   "cell_type": "code",
   "execution_count": 7,
   "metadata": {},
   "outputs": [],
   "source": [
    "# toConsider: those items that nodes higher up in the tree have not yet considered\n",
    "# avail: the amount of space still available\n",
    "\n",
    "def maxVal(toConsider, avail):\n",
    "    \"\"\"\n",
    "    Assumes toConsider a list of items, avails a weight\n",
    "    Returns a tuple of the total value of a solution to 0/1 knapsack problem and the items of that solution\n",
    "    \"\"\"\n",
    "    if toConsider == [] or avail == 0:\n",
    "        result = (0, ())\n",
    "    elif toConsider[0].getUnits() > avail:\n",
    "        result = maxVal(toConsider[1:], avail)\n",
    "    else:\n",
    "        nextItem = toConsider[0]\n",
    "        withVal, withToTake = maxVal(toConsider[1:],\n",
    "                                     avail - nextItem.getUnits())\n",
    "        withVal += nextItem.getValue()\n",
    "        withoutVal, withoutToTake = maxVal(toConsider[1:], avail)\n",
    "    if withVal > withoutVal:\n",
    "        result = (withVal, withToTake + (nextItem,))\n",
    "    else:\n",
    "        result = (withVal, withoutToTake)\n",
    "    return result"
   ]
  },
  {
   "cell_type": "markdown",
   "metadata": {},
   "source": [
    "# Recurssive Implementation of Fibonacci"
   ]
  },
  {
   "cell_type": "code",
   "execution_count": 5,
   "metadata": {},
   "outputs": [
    {
     "data": {
      "text/plain": [
       "233"
      ]
     },
     "execution_count": 5,
     "metadata": {},
     "output_type": "execute_result"
    }
   ],
   "source": [
    "def fib(n):\n",
    "    if n == 0 or n== 1:\n",
    "        return 1\n",
    "    else:\n",
    "        return fib(n-1) + fib(n-2)\n",
    "fib(12)"
   ]
  },
  {
   "cell_type": "code",
   "execution_count": 6,
   "metadata": {},
   "outputs": [
    {
     "data": {
      "text/plain": [
       "16130531424904581415797907386349"
      ]
     },
     "execution_count": 6,
     "metadata": {},
     "output_type": "execute_result"
    }
   ],
   "source": [
    "# Using memoization\n",
    "\n",
    "def fastFib(n, memo={}):\n",
    "    \"\"\"\n",
    "    Assumes n is an init >= 0, memo used only by recursive calls\n",
    "    Returns Fibonacci of n\n",
    "    \"\"\"\n",
    "    if n == 0 or n == 1:\n",
    "        return 1\n",
    "    try:\n",
    "        return memo [n]\n",
    "    except KeyError:\n",
    "        result = fastFib(n-1, memo) + fastFib(n-2, memo)\n",
    "        memo[n] = result\n",
    "\n",
    "        return result\n",
    "fastFib(150)"
   ]
  },
  {
   "cell_type": "code",
   "execution_count": null,
   "metadata": {},
   "outputs": [
    {
     "name": "stdout",
     "output_type": "stream",
     "text": [
      "120\n"
     ]
    }
   ],
   "source": [
    "## factorials\n",
    "def factorial(n):\n",
    "    if n == 0:  # Base case\n",
    "        return 1\n",
    "    else:       # Recursive case\n",
    "        return n * factorial(n - 1)\n",
    "\n",
    "print(factorial(5))  # Output: 120"
   ]
  },
  {
   "cell_type": "code",
   "execution_count": null,
   "metadata": {},
   "outputs": [],
   "source": []
  }
 ],
 "metadata": {
  "kernelspec": {
   "display_name": "3.9.6",
   "language": "python",
   "name": "python3"
  },
  "language_info": {
   "codemirror_mode": {
    "name": "ipython",
    "version": 3
   },
   "file_extension": ".py",
   "mimetype": "text/x-python",
   "name": "python",
   "nbconvert_exporter": "python",
   "pygments_lexer": "ipython3",
   "version": "3.9.6"
  }
 },
 "nbformat": 4,
 "nbformat_minor": 2
}
