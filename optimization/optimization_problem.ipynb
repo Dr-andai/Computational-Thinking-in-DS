{
 "cells": [
  {
   "cell_type": "markdown",
   "metadata": {},
   "source": [
    "# Optimization Model\n",
    "An objective function that is to be maximized or minimized.\n",
    "A set of constraints (possibly empty) that must be honored.  \n",
    "\n",
    "“An optimization problem consists of maximizing or minimizing a real function by systematically choosing input values from an allowed set and computing the value of the function.”  \n",
    "\n",
    "It is useful in finding the best solution to a problem (which could be minimizing or maximizing the functional form f(x)). Here x stands for decision variables. We choose values for x so that this function f is either maximized or minimized. There might be certain constraints on x which have to be satisfied while solving the optimization problem i.e. we can choose x only in certain regions or sets of values."
   ]
  },
  {
   "cell_type": "markdown",
   "metadata": {},
   "source": [
    "## Components of Optimization\n",
    "\n",
    "1. Objective function (either maximum or minimum)\n",
    "\n",
    "2. Decision variables\n",
    "\n",
    "3. Constraints"
   ]
  },
  {
   "cell_type": "markdown",
   "metadata": {},
   "source": [
    "Knapsack problem\n",
    "We want to pack the bag with food. Given a certain budget, not to exceeed 750 calories"
   ]
  },
  {
   "cell_type": "code",
   "execution_count": null,
   "metadata": {},
   "outputs": [],
   "source": [
    "# Class Food\n",
    "class Food(object):\n",
    "    def __init__(self, n, v, w):\n",
    "        self.name = n\n",
    "        self.value = v\n",
    "        self.calories = w\n",
    "    \n",
    "    def getValue(self):\n",
    "        return self.value\n",
    "     \n",
    "    def getCost(self):\n",
    "        return self.calories\n",
    "    \n",
    "    def density(self):\n",
    "        return self.getValue()/self.getCost()\n",
    "    \n",
    "    def __str__(self):\n",
    "        return self.name + ': <'+ str(self.value)+','+str(self.calories)+'>'\n",
    "\n",
    "# cost is the total number of calories"
   ]
  },
  {
   "cell_type": "code",
   "execution_count": 2,
   "metadata": {},
   "outputs": [],
   "source": [
    "# Build menu\n",
    "def buildMenu(names, values, calories):\n",
    "    \"\"\"\n",
    "    names, values, calories lists of same length.\n",
    "    name a list of strings\n",
    "    values and calories lists of numbers\n",
    "    return list of Foods\n",
    "    \"\"\"\n",
    "    menu = []\n",
    "    for i in range(len(values)):\n",
    "        menu.append(Food(names[i], values[i], calories[i]))\n",
    "    \n",
    "    return menu"
   ]
  },
  {
   "cell_type": "code",
   "execution_count": 12,
   "metadata": {},
   "outputs": [],
   "source": [
    "## implementation of flexible greedy\n",
    "def greedy(items, maxCost, keyFunction):\n",
    "    \"\"\"\n",
    "    Assumes items a list, maxCost >= 0,\n",
    "    keyFunction maps elements of items to numbers\n",
    "    \"\"\"\n",
    "    itemsCopy = sorted(items, key = keyFunction, reverse = True)\n",
    "    \n",
    "    result = []\n",
    "    totalValue, totalCost = 0.0, 0.0\n",
    "\n",
    "    for i in range(len(itemsCopy)):\n",
    "        if (totalCost+itemsCopy[i].getCost()) <= maxCost:\n",
    "            result.append(itemsCopy[i])\n",
    "            totalCost += itemsCopy[i].getCost()\n",
    "            totalValue += itemsCopy[i].getValue()\n",
    "\n",
    "    return (result, totalValue)"
   ]
  },
  {
   "cell_type": "code",
   "execution_count": 4,
   "metadata": {},
   "outputs": [],
   "source": [
    "# using greeedy\n",
    "\n",
    "# constraint in this case will be the weight\n",
    "\n",
    "def testGreedy(items, constraint, keyFunction):\n",
    "    taken, val = greedy (items, constraint, keyFunction)\n",
    "    print('Total value of items taken = ', val)\n",
    "    for item in taken:\n",
    "        print(' ', item)"
   ]
  },
  {
   "cell_type": "code",
   "execution_count": 10,
   "metadata": {},
   "outputs": [],
   "source": [
    "# Using a greedy algorithm\n",
    "def testGreedys (foods, maxUnits):\n",
    "    print('Use greedy by value to allocate', maxUnits, 'calories')\n",
    "    testGreedy (foods, maxUnits, Food.getValue)\n",
    "\n",
    "    print('n\\ Use greedy by cost to allocate', maxUnits, 'calories')\n",
    "    testGreedy(foods, maxUnits, lambda x: 1/Food.getCost(x))\n",
    "\n",
    "    print('n\\ Use greedy by density to allocate', maxUnits, 'calories')\n",
    "    testGreedy(foods, maxUnits, Food.density)"
   ]
  },
  {
   "cell_type": "code",
   "execution_count": 11,
   "metadata": {},
   "outputs": [
    {
     "name": "stdout",
     "output_type": "stream",
     "text": [
      "Use greedy by value to allocate 800 calories\n",
      "Total value of items taken =  285.0\n",
      "  burger: <100,354>\n",
      "  pizza: <95,258>\n",
      "  beer: <90,154>\n",
      "n\\ Use greedy by cost to allocate 800 calories\n",
      "Total value of items taken =  318.0\n",
      "  apple: <50,95>\n",
      "  wine: <89,123>\n",
      "  cola: <79,150>\n",
      "  beer: <90,154>\n",
      "  donut: <10,195>\n",
      "n\\ Use greedy by density to allocate 800 calories\n",
      "Total value of items taken =  403.0\n",
      "  wine: <89,123>\n",
      "  beer: <90,154>\n",
      "  cola: <79,150>\n",
      "  apple: <50,95>\n",
      "  pizza: <95,258>\n"
     ]
    }
   ],
   "source": [
    "names = ['wine', 'beer','pizza','burger','fries','cola','apple','donut','cake']\n",
    "\n",
    "values = [89, 90, 95, 100, 90, 79, 50, 10]\n",
    "\n",
    "calories = [123, 154, 258, 354, 365, 150, 95, 195]\n",
    "\n",
    "foods = buildMenu(names, values, calories)\n",
    "\n",
    "testGreedys(foods, 800)"
   ]
  },
  {
   "cell_type": "markdown",
   "metadata": {},
   "source": [
    "# *additional resources*\n",
    "https://medium.com/analytics-vidhya/optimization-acb996a4623c"
   ]
  },
  {
   "cell_type": "markdown",
   "metadata": {},
   "source": []
  }
 ],
 "metadata": {
  "kernelspec": {
   "display_name": "Python 3",
   "language": "python",
   "name": "python3"
  },
  "language_info": {
   "codemirror_mode": {
    "name": "ipython",
    "version": 3
   },
   "file_extension": ".py",
   "mimetype": "text/x-python",
   "name": "python",
   "nbconvert_exporter": "python",
   "pygments_lexer": "ipython3",
   "version": "3.10.12"
  }
 },
 "nbformat": 4,
 "nbformat_minor": 2
}
